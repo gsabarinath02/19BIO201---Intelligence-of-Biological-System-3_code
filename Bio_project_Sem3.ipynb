{
  "nbformat": 4,
  "nbformat_minor": 0,
  "metadata": {
    "colab": {
      "name": "Bio_project Sem3.ipynb",
      "provenance": [],
      "authorship_tag": "ABX9TyMCQPXUwkbxdXPL1eeqi8df",
      "include_colab_link": true
    },
    "kernelspec": {
      "name": "python3",
      "display_name": "Python 3"
    },
    "language_info": {
      "name": "python"
    }
  },
  "cells": [
    {
      "cell_type": "markdown",
      "metadata": {
        "id": "view-in-github",
        "colab_type": "text"
      },
      "source": [
        "<a href=\"https://colab.research.google.com/github/gsabarinath02/19BIO201---Intelligence-of-Biological-System-3_code/blob/main/Bio_project_Sem3.ipynb\" target=\"_parent\"><img src=\"https://colab.research.google.com/assets/colab-badge.svg\" alt=\"Open In Colab\"/></a>"
      ]
    },
    {
      "cell_type": "markdown",
      "source": [
        "19BIO201 - INTELLIGENCE OF BIOLOGICAL SYSTEMS 3"
      ],
      "metadata": {
        "id": "FJDIMFe6kRrv"
      }
    },
    {
      "cell_type": "code",
      "source": [
        "import os\n",
        "\n",
        "\n",
        "def get_suffixes(string):\n",
        "    return [string[i:] + \"$\" for i in range(len(string) + 1)]\n",
        "\n",
        "\n",
        "def shared_prefix(string_a, string_b):\n",
        "    return os.path.commonprefix([string_a, string_b])\n",
        "\n",
        "\n",
        "def construct_suffix_tree(string):\n",
        "    tree = {}\n",
        "    for i in range(len(string) + 1):\n",
        "        suffix = string[i:] + \"$\"\n",
        "        insert_suffix(suffix, tree)\n",
        "    return tree\n",
        "\n",
        "\n",
        "def insert_suffix(string, suffix_tree):\n",
        "    if len(suffix_tree) == 0:\n",
        "        suffix_tree[string] = []\n",
        "        return suffix_tree\n",
        "\n",
        "    found_match = False\n",
        "    for key in list(suffix_tree):\n",
        "        prefix = shared_prefix(string, key)\n",
        "        n = len(prefix)\n",
        "        if len(prefix) > 0:\n",
        "            found_match = True\n",
        "            key_suffix = key[n:]\n",
        "            string_suffix = string[n:]\n",
        "            del suffix_tree[key]\n",
        "            suffix_tree[prefix] = [key_suffix, string_suffix]\n",
        "\n",
        "    if not found_match:\n",
        "        suffix_tree[string] = []\n",
        "    return suffix_tree\n",
        "\n",
        "\n",
        "print(\"\\n\\t\\t\\t\\t\\t19BIO201 - Intelligence of Biological System 3\"\n",
        "      \"\\n\\t\\t\\t\\tSuffix Trees and their Applications in Bioinformatics\"\n",
        "      \"\\n\\t\\t-----------------------------------------------------------------------\"\n",
        "      \"\\n\\t\\tAdithya R(005), Advaith A J(006), Aiswarya Mahesh(007), G Sabarinath(026)\")\n",
        "\n",
        "\n",
        "my_string = input(\"\\n\\tEnter the String: \")\n",
        "print(construct_suffix_tree(my_string))\n"
      ],
      "metadata": {
        "colab": {
          "base_uri": "https://localhost:8080/"
        },
        "id": "GP4ptxuMikTL",
        "outputId": "b6000799-0fcf-4ce2-d2fd-ee8c35f2a34e"
      },
      "execution_count": 10,
      "outputs": [
        {
          "output_type": "stream",
          "name": "stdout",
          "text": [
            "\n",
            "\t\t\t\t\t19BIO201 - Intelligence of Biological System 3\n",
            "\t\t\t\tSuffix Trees and their Applications in Bioinformatics\n",
            "\t\t-----------------------------------------------------------------------\n",
            "\t\tAdithya R(005), Advaith A J(006), Aiswarya Mahesh(007), G Sabarinath(026)\n",
            "\n",
            "\tEnter the String: AATGATGC\n",
            "{'A': ['', 'TGC$'], 'TG': ['ATGC$', 'C$'], 'G': ['ATGC$', 'C$'], 'C$': [], '$': []}\n"
          ]
        }
      ]
    },
    {
      "cell_type": "code",
      "source": [
        "pip install suffix-trees"
      ],
      "metadata": {
        "colab": {
          "base_uri": "https://localhost:8080/"
        },
        "id": "O607I6EKi0y9",
        "outputId": "29b04e0b-10e5-478d-f2ce-2c5a0c5b10f3"
      },
      "execution_count": 16,
      "outputs": [
        {
          "output_type": "stream",
          "name": "stdout",
          "text": [
            "Collecting suffix-trees\n",
            "  Downloading suffix_trees-0.3.0-py3-none-any.whl (5.4 kB)\n",
            "Installing collected packages: suffix-trees\n",
            "Successfully installed suffix-trees-0.3.0\n"
          ]
        }
      ]
    },
    {
      "cell_type": "code",
      "source": [
        "from suffix_trees import STree\n",
        "\n",
        "# Suffix-Tree example.\n",
        "st = STree.STree(\"abcdefghab\")\n",
        "print(st.find(\"abc\")) # 0\n",
        "print(st.find_all(\"ab\")) # {0, 8}\n",
        "\n",
        "# Generalized Suffix-Tree example.\n",
        "a = [\"xxxabcxxx\", \"adsaabc\", \"ytysabcrew\", \"qqqabcqw\", \"aaabc\"]\n",
        "st = STree.STree(a)\n",
        "print(st.lcs()) # \"abc\"\n",
        "print(\"Largest common substring is : \"+st.lcs())  # \"abc\""
      ],
      "metadata": {
        "colab": {
          "base_uri": "https://localhost:8080/"
        },
        "id": "pYIG998vjA9o",
        "outputId": "425b26b0-3bac-4ed6-f194-d244ca35aa2a"
      },
      "execution_count": 18,
      "outputs": [
        {
          "output_type": "stream",
          "name": "stdout",
          "text": [
            "0\n",
            "{8, 0}\n",
            "abc\n",
            "Largest common substring is : abc\n"
          ]
        }
      ]
    },
    {
      "cell_type": "code",
      "source": [
        "class SuffixTree(object):\n",
        "    class Node(object):\n",
        "        def __init__(self, lab):\n",
        "            self.lab = lab  # label on path leading to this node\n",
        "            self.out = {}  # outgoing edges; maps characters to nodes\n",
        "\n",
        "    def __init__(self, s):\n",
        "        \"\"\" Make suffix tree, without suffix links, from s in quadratic time\n",
        "            and linear space \"\"\"\n",
        "        s += '$'\n",
        "        self.root = self.Node(None)\n",
        "        self.root.out[s[0]] = self.Node(s)  # trie for just longest suf\n",
        "        # add the rest of the suffixes, from longest to shortest\n",
        "        for i in range(1, len(s)):\n",
        "            # start at root; we’ll walk down as far as we can go\n",
        "            cur = self.root\n",
        "            j = i\n",
        "            while j < len(s):\n",
        "                if s[j] in cur.out:\n",
        "                    child = cur.out[s[j]]\n",
        "                    lab = child.lab\n",
        "                    # Walk along edge until we exhaust edge label or\n",
        "                    # until we mismatch\n",
        "                    k = j + 1\n",
        "                    while k - j < len(lab) and s[k] == lab[k - j]:\n",
        "                        k += 1\n",
        "                    if k - j == len(lab):\n",
        "                        cur = child  # we exhausted the edge\n",
        "                        j = k\n",
        "                    else:\n",
        "                        # we fell off in middle of edge\n",
        "                        cExist, cNew = lab[k - j], s[k]\n",
        "                        # create “mid”: new node bisecting edge\n",
        "                        mid = self.Node(lab[:k - j])\n",
        "                        mid.out[cNew] = self.Node(s[k:])\n",
        "                        # original child becomes mid’s child\n",
        "                        mid.out[cExist] = child\n",
        "                        # original child’s label is curtailed\n",
        "                        child.lab = lab[k - j:]\n",
        "                        # mid becomes new child of original parent\n",
        "                        cur.out[s[j]] = mid\n",
        "                else:\n",
        "                    # Fell off tree at a node: make new edge hanging off it\n",
        "                    cur.out[s[j]] = self.Node(s[j:])\n",
        "\n",
        "    def followPath(self, s):\n",
        "        \"\"\" Follow path given by s.  If we fall off tree, return None.  If we\n",
        "            finish mid-edge, return (node, offset) where 'node' is child and\n",
        "            'offset' is label offset.  If we finish on a node, return (node,\n",
        "            None). \"\"\"\n",
        "        cur = self.root\n",
        "        i = 0\n",
        "        while i < len(s):\n",
        "            c = s[i]\n",
        "            if c not in cur.out:\n",
        "                return None, None  # fell off at a node\n",
        "            child = cur.out[s[i]]\n",
        "            lab = child.lab\n",
        "            j = i + 1\n",
        "            while j - i < len(lab) and j < len(s) and s[j] == lab[j - i]:\n",
        "                j += 1\n",
        "            if j - i == len(lab):\n",
        "                cur = child  # exhausted edge\n",
        "                i = j\n",
        "            elif j == len(s):\n",
        "                return child, j - i  # exhausted query string in middle of edge\n",
        "            else:\n",
        "                return None, None  # fell off in the middle of the edge\n",
        "        return cur, None  # exhausted query string at internal node\n",
        "\n",
        "    def hasSubstring(self, s):\n",
        "        \"\"\" Return true iff s appears as a substring \"\"\"\n",
        "        node, off = self.followPath(s)\n",
        "        return node is not None\n",
        "\n",
        "    def hasSuffix(self, s):\n",
        "        \"\"\" Return true iff s is a suffix \"\"\"\n",
        "        node, off = self.followPath(s)\n",
        "        if node is None:\n",
        "            return False  # fell off the tree\n",
        "        if off is None:\n",
        "            # finished on top of a node\n",
        "            return '$' in node.out\n",
        "        else:\n",
        "            # finished at offset 'off' within an edge leading to 'node'\n",
        "            return node.lab[off] == '$'\n"
      ],
      "metadata": {
        "id": "UYwUzjrHhf_j"
      },
      "execution_count": 11,
      "outputs": []
    },
    {
      "cell_type": "code",
      "source": [
        "stree = SuffixTree('there would have been a time for such a word')"
      ],
      "metadata": {
        "id": "xMwhNH8MhtH2"
      },
      "execution_count": 3,
      "outputs": []
    },
    {
      "cell_type": "code",
      "source": [
        "stree.hasSubstring('nope')"
      ],
      "metadata": {
        "colab": {
          "base_uri": "https://localhost:8080/"
        },
        "id": "EwJ-lB96iCp3",
        "outputId": "144fcb6e-3716-40cd-9aeb-6fe54630e1b9"
      },
      "execution_count": 4,
      "outputs": [
        {
          "output_type": "execute_result",
          "data": {
            "text/plain": [
              "False"
            ]
          },
          "metadata": {},
          "execution_count": 4
        }
      ]
    },
    {
      "cell_type": "code",
      "source": [
        "stree.hasSubstring('would have been')"
      ],
      "metadata": {
        "colab": {
          "base_uri": "https://localhost:8080/"
        },
        "id": "WPWQ66t9iE8G",
        "outputId": "32a1aedc-23d0-4c88-8cf7-56eb0b18a0c3"
      },
      "execution_count": 5,
      "outputs": [
        {
          "output_type": "execute_result",
          "data": {
            "text/plain": [
              "True"
            ]
          },
          "metadata": {},
          "execution_count": 5
        }
      ]
    },
    {
      "cell_type": "code",
      "source": [
        "stree.hasSubstring('such a word')"
      ],
      "metadata": {
        "colab": {
          "base_uri": "https://localhost:8080/"
        },
        "id": "7Y70KllLiIM0",
        "outputId": "22325aa7-8961-4c31-bf6d-8aa3fa29dd6f"
      },
      "execution_count": 6,
      "outputs": [
        {
          "output_type": "execute_result",
          "data": {
            "text/plain": [
              "True"
            ]
          },
          "metadata": {},
          "execution_count": 6
        }
      ]
    },
    {
      "cell_type": "code",
      "source": [
        "stree.hasSuffix('would have been')"
      ],
      "metadata": {
        "colab": {
          "base_uri": "https://localhost:8080/"
        },
        "id": "IALObVX5iLz9",
        "outputId": "d57d2b0c-5915-4e57-f10b-04b5f9c61e74"
      },
      "execution_count": 7,
      "outputs": [
        {
          "output_type": "execute_result",
          "data": {
            "text/plain": [
              "False"
            ]
          },
          "metadata": {},
          "execution_count": 7
        }
      ]
    },
    {
      "cell_type": "code",
      "source": [
        "stree.hasSuffix('such a word')"
      ],
      "metadata": {
        "colab": {
          "base_uri": "https://localhost:8080/"
        },
        "id": "7lYjIMYliO1S",
        "outputId": "2f04619a-4ccb-4c5d-e3c5-c083d759a620"
      },
      "execution_count": 8,
      "outputs": [
        {
          "output_type": "execute_result",
          "data": {
            "text/plain": [
              "True"
            ]
          },
          "metadata": {},
          "execution_count": 8
        }
      ]
    },
    {
      "cell_type": "markdown",
      "source": [
        "Longest common substring using  Ukkonen's algorithm."
      ],
      "metadata": {
        "id": "hteKqjX2kiKA"
      }
    },
    {
      "cell_type": "code",
      "source": [
        "from math import inf\n",
        "\n",
        "\n",
        "def longestCommonSubstring(s, t):\n",
        "    \"\"\"Return the length of the longest substring that appears in both s and t.\n",
        "    This function builds a suffix tree of a combination of s and t using\n",
        "    Ukkonen's algorithm. It assumes that the symbols $ and # appear in neither s\n",
        "    nor t.\n",
        "    \"\"\"\n",
        "\n",
        "    len_s = len(s)\n",
        "    string = s + '#' + t + '$'\n",
        "    len_string = len(string)\n",
        "    max_len = 0\n",
        "\n",
        "    class LeafNode():\n",
        "\n",
        "        def __init__(self, from_first_word):\n",
        "            self.from_first_word = from_first_word\n",
        "\n",
        "        @property\n",
        "        def has_s_leaves(self):\n",
        "            return self.from_first_word\n",
        "\n",
        "        @property\n",
        "        def has_t_leaves(self):\n",
        "            return not self.from_first_word\n",
        "\n",
        "    class InternalNode():\n",
        "\n",
        "        def __init__(self, root_length):\n",
        "            self.edges = {}  # dictionary of edges keyed by first letter of edge\n",
        "            self.link = None\n",
        "            self.root_length = root_length\n",
        "            self.has_s_leaves = False\n",
        "            self.has_t_leaves = False\n",
        "            self.already_counted = False\n",
        "\n",
        "        def __getitem__(self, key):\n",
        "            return self.edges[key]\n",
        "\n",
        "        def __setitem__(self, key, edge):\n",
        "            self.edges[key] = edge\n",
        "            # Update leaf identity based on new child leaves\n",
        "            # Using \"or\" is faster than \"|=\" (I guess |= doesn't short circuit)\n",
        "            self.has_s_leaves = self.has_s_leaves or edge.dest.has_s_leaves\n",
        "            self.has_t_leaves = self.has_t_leaves or edge.dest.has_t_leaves\n",
        "\n",
        "        def __contains__(self, key):\n",
        "            return key in self.edges\n",
        "\n",
        "    class Edge():\n",
        "\n",
        "        def __init__(self, dest, start, end):\n",
        "            self.dest = dest\n",
        "            self.start = start\n",
        "            self.end = end\n",
        "            self.length = self.end - self.start\n",
        "\n",
        "    root = InternalNode(0)\n",
        "\n",
        "    class Cursor:\n",
        "\n",
        "        def __init__(self):\n",
        "            self.node = root\n",
        "            self.edge = None\n",
        "            self.idx = 0\n",
        "            self.lag = -1\n",
        "\n",
        "        def is_followed_by(self, letter):\n",
        "            if self.idx == 0:\n",
        "                return letter in self.node\n",
        "            return letter == string[self.node[self.edge].start + self.idx]\n",
        "\n",
        "        def defer(self, letter):\n",
        "            \"\"\"When we defer the insertion of a letter,\n",
        "            we need to advance the cursor one position.\n",
        "            \"\"\"\n",
        "            self.idx += 1\n",
        "            # We never want to leave the cursor at the end of an explicit edge.\n",
        "            # If this is the case, move it to the beginning of the next edge.\n",
        "            if self.edge is None:\n",
        "                self.edge = letter\n",
        "            edge = self.node[self.edge]\n",
        "            if self.idx == edge.length:\n",
        "                self.node = edge.dest\n",
        "                self.edge = None\n",
        "                self.idx = 0\n",
        "\n",
        "        def post_insert(self, i):\n",
        "            \"\"\"When we are finished inserting a letter, we can pop\n",
        "            it off the front of our queue and prepare the cursor for the\n",
        "            next letter.\n",
        "            \"\"\"\n",
        "            self.lag -= 1\n",
        "            # Only when the current node is the root is the first letter (which\n",
        "            # we must remove) part of the cursor edge and index. Otherwise it is\n",
        "            # implicitly determined by the current node.\n",
        "            if self.node is root:\n",
        "                if self.idx > 1:\n",
        "                    self.edge = string[i - self.lag]\n",
        "                    self.idx -= 1\n",
        "                else:\n",
        "                    self.idx = 0\n",
        "                    self.edge = None\n",
        "            # Following an insert, we move the active node to the node\n",
        "            # linked from our current active_node or root if there is none.\n",
        "            self.node = self.node.link if self.node.link else root\n",
        "            # When following a suffix link, even to root, it is possible to\n",
        "            # end up with a cursor index that points past the end of the current\n",
        "            # edge. When that happens, follow the edges to a valid cursor\n",
        "            # position. Note that self.idx might be zero and self.edge None.\n",
        "            while self.edge and self.idx >= self.node[self.edge].length:\n",
        "                edge = self.node[self.edge]\n",
        "                self.node = edge.dest\n",
        "                if self.idx == edge.length:\n",
        "                    self.idx = 0\n",
        "                    self.edge = None\n",
        "                else:\n",
        "                    self.idx -= edge.length\n",
        "                    self.edge = string[i - self.lag + self.node.root_length]\n",
        "\n",
        "        def split_edge(self):\n",
        "            edge = self.node[self.edge]\n",
        "            # Create a new node and edge\n",
        "            middle_node = InternalNode(self.node.root_length + self.idx)\n",
        "            midpoint = edge.start + self.idx\n",
        "            next_edge = Edge(edge.dest, midpoint, edge.end)\n",
        "            middle_node[string[midpoint]] = next_edge\n",
        "            # Update the current edge to end at the new node\n",
        "            edge.dest = middle_node\n",
        "            edge.end = midpoint\n",
        "            edge.length = midpoint - edge.start\n",
        "            return middle_node\n",
        "\n",
        "    cursor = Cursor()\n",
        "    from_first_word = True\n",
        "    dummy = InternalNode(0)\n",
        "\n",
        "    for i, letter in enumerate(string):\n",
        "\n",
        "        if from_first_word and i > len_s:\n",
        "            from_first_word = False\n",
        "\n",
        "        cursor.lag += 1\n",
        "        prev = dummy  # dummy node to make suffix linking easier the first time\n",
        "\n",
        "        while cursor.lag >= 0:\n",
        "\n",
        "            if cursor.is_followed_by(letter):  # Suffix already exists in tree\n",
        "                prev.link = cursor.node\n",
        "                cursor.defer(letter)\n",
        "                break\n",
        "\n",
        "            elif cursor.idx != 0:  # We are part-way along an edge\n",
        "                stem = cursor.split_edge()\n",
        "            else:\n",
        "                stem = cursor.node\n",
        "            # Now we have an explicit node and can insert our new edge there.\n",
        "            stem[letter] = Edge(LeafNode(from_first_word), i, inf)\n",
        "            # Whenever we update an internal node, we check for a new max_len\n",
        "            # But not until we have started into the second input string\n",
        "            if (i > len_s and not stem.already_counted\n",
        "                    and stem.has_s_leaves and stem.has_t_leaves):\n",
        "                stem.already_counted = True\n",
        "                if stem.root_length > max_len:\n",
        "                    max_len = stem.root_length\n",
        "            # Link the previously altered internal node to the new node and make\n",
        "            # the new node prev.\n",
        "            prev.link = prev = stem\n",
        "            cursor.post_insert(i)\n",
        "\n",
        "    print(max_len)\n",
        "\n",
        "\n",
        "print(\"\\n\\t\\t\\t\\t\\t19BIO201 - Intelligence of Biological System 3\"\n",
        "      \"\\n\\t\\t\\t\\tSuffix Trees and their Applications in Bioinformatics\"\n",
        "      \"\\n\\t\\t-----------------------------------------------------------------------\"\n",
        "      \"\\n\\t\\tAdithya R(005), Advaith A J(006), Aiswarya Mahesh(007), G Sabarinath(026)\"\n",
        "      \"\\n\\n\\t\\tthe length of the longest substring using Ukkonen's algorithm\")\n",
        "\n",
        "s = input(\"\\n\\nEnter the String: \")\n",
        "t = input(\"Enter the Text: \")\n",
        "longestCommonSubstring(s, t)\n"
      ],
      "metadata": {
        "colab": {
          "base_uri": "https://localhost:8080/"
        },
        "id": "LKCKIb1xiahB",
        "outputId": "335acc34-a332-4a7c-adc2-a07c31874552"
      },
      "execution_count": 19,
      "outputs": [
        {
          "output_type": "stream",
          "name": "stdout",
          "text": [
            "\n",
            "\t\t\t\t\t19BIO201 - Intelligence of Biological System 3\n",
            "\t\t\t\tSuffix Trees and their Applications in Bioinformatics\n",
            "\t\t-----------------------------------------------------------------------\n",
            "\t\tAdithya R(005), Advaith A J(006), Aiswarya Mahesh(007), G Sabarinath(026)\n",
            "\n",
            "\t\tthe length of the longest substring using Ukkonen's algorithm\n",
            "\n",
            "\n",
            "Enter the String: ATGCATTAGGATTAAA\n",
            "Enter the Text: ATAAATGAATG\n",
            "4\n"
          ]
        }
      ]
    }
  ]
}